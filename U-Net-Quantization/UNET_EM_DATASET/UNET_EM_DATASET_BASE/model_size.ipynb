{
 "cells": [
  {
   "cell_type": "code",
   "execution_count": 11,
   "metadata": {},
   "outputs": [
    {
     "name": "stdout",
     "output_type": "stream",
     "text": [
      "========================================================\n",
      "Configuration:\n",
      "========================================================\n",
      "dataset: gmchallenge\n",
      "lr: 0.001\n",
      "num_epochs: 50\n",
      "model_type: unet\n",
      "init_type: glorot\n",
      "activation: relu\n",
      "quantization: FIXED\n",
      "activation_f_width: 4\n",
      "activation_i_width: 4\n",
      "weight_f_width: 4\n",
      "weight_i_width: 4\n",
      "gpu_core_num: 1\n",
      "trained_model: ./export/nana/results/logs/em_001_9_fixed/em_001_7_fixed.pkl\n",
      "experiment_name: em_001_9_fixed\n",
      "log_output_dir: ./export/nana/results/logs/\n",
      "operation_mode: train\n",
      "\n",
      "model size: 18.470MB\n"
     ]
    },
    {
     "name": "stderr",
     "output_type": "stream",
     "text": [
      "/home/nana/Documents/PDL/Final Project/Final-Project-Semantic-Segmentation/U-Net-Quantization/UNET_EM_DATASET/UNET_EM_DATASET_BASE/config.py:33: YAMLLoadWarning: calling yaml.load() without Loader=... is deprecated, as the default Loader is unsafe. Please read https://msg.pyyaml.org/load for full details.\n",
      "  configs = yaml.load(stream)\n"
     ]
    }
   ],
   "source": [
    "import torch\n",
    "import config \n",
    "import models as m\n",
    "\n",
    "\n",
    "config = config.Configuration(\"UNET\", \"config.yaml\")\n",
    "print(config.get_config_str())\n",
    "config = config.config_dict\n",
    "\n",
    "model = m.Unet(drop_rate=0.4, bn_momentum=0.1, config=config)\n",
    "\n",
    "model.load_state_dict(torch.load(\n",
    "            config['trained_model']))\n",
    "\n",
    "param_size = 0\n",
    "for param in model.parameters():\n",
    "    param_size += param.nelement() * param.element_size()\n",
    "buffer_size = 0\n",
    "for buffer in model.buffers():\n",
    "    buffer_size += buffer.nelement() * buffer.element_size()\n",
    "\n",
    "size_all_mb = (param_size + buffer_size) / 1024**2\n",
    "print('model size: {:.3f}MB'.format(size_all_mb))\n"
   ]
  },
  {
   "cell_type": "code",
   "execution_count": null,
   "metadata": {},
   "outputs": [],
   "source": []
  }
 ],
 "metadata": {
  "kernelspec": {
   "display_name": "tf",
   "language": "python",
   "name": "python3"
  },
  "language_info": {
   "codemirror_mode": {
    "name": "ipython",
    "version": 3
   },
   "file_extension": ".py",
   "mimetype": "text/x-python",
   "name": "python",
   "nbconvert_exporter": "python",
   "pygments_lexer": "ipython3",
   "version": "3.9.13"
  },
  "orig_nbformat": 4,
  "vscode": {
   "interpreter": {
    "hash": "03278fafecf26aeb7ce7d788a5986a21b938eef97c5253238ae978c530476e9a"
   }
  }
 },
 "nbformat": 4,
 "nbformat_minor": 2
}
